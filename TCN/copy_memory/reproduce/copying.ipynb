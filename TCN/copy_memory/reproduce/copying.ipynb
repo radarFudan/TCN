{
 "cells": [
  {
   "cell_type": "code",
   "execution_count": 1,
   "metadata": {},
   "outputs": [],
   "source": [
    "import pandas as pd\n",
    "\n",
    "import matplotlib.pyplot as plt"
   ]
  },
  {
   "cell_type": "code",
   "execution_count": 2,
   "metadata": {},
   "outputs": [],
   "source": [
    "loss = pd.DataFrame()\n",
    "acc = pd.DataFrame()\n",
    "\n",
    "p_list = [-1, 0, 1, 2, 10, 100]\n",
    "for p in p_list:\n",
    "    loss[f\"p={p}\"] = pd.read_csv(f'./results_2_{p}_g.csv', index_col=0)[\"loss\"][::3]\n",
    "    acc[f\"p={p}\"] = pd.read_csv(f'./results_2_{p}_g.csv', index_col=0)[\"accuracy\"][::3]"
   ]
  },
  {
   "cell_type": "code",
   "execution_count": 3,
   "metadata": {},
   "outputs": [
    {
     "data": {
      "text/html": [
       "<div>\n",
       "<style scoped>\n",
       "    .dataframe tbody tr th:only-of-type {\n",
       "        vertical-align: middle;\n",
       "    }\n",
       "\n",
       "    .dataframe tbody tr th {\n",
       "        vertical-align: top;\n",
       "    }\n",
       "\n",
       "    .dataframe thead th {\n",
       "        text-align: right;\n",
       "    }\n",
       "</style>\n",
       "<table border=\"1\" class=\"dataframe\">\n",
       "  <thead>\n",
       "    <tr style=\"text-align: right;\">\n",
       "      <th></th>\n",
       "      <th>p=-1</th>\n",
       "      <th>p=0</th>\n",
       "      <th>p=1</th>\n",
       "      <th>p=2</th>\n",
       "      <th>p=10</th>\n",
       "      <th>p=100</th>\n",
       "    </tr>\n",
       "  </thead>\n",
       "  <tbody>\n",
       "    <tr>\n",
       "      <th>0</th>\n",
       "      <td>0.063063</td>\n",
       "      <td>0.082284</td>\n",
       "      <td>0.112744</td>\n",
       "      <td>0.150400</td>\n",
       "      <td>0.680847</td>\n",
       "      <td>0.071415</td>\n",
       "    </tr>\n",
       "    <tr>\n",
       "      <th>3</th>\n",
       "      <td>0.050339</td>\n",
       "      <td>0.039955</td>\n",
       "      <td>0.050331</td>\n",
       "      <td>0.085897</td>\n",
       "      <td>0.590450</td>\n",
       "      <td>0.040250</td>\n",
       "    </tr>\n",
       "    <tr>\n",
       "      <th>6</th>\n",
       "      <td>0.043834</td>\n",
       "      <td>0.019796</td>\n",
       "      <td>0.049901</td>\n",
       "      <td>0.083866</td>\n",
       "      <td>0.536981</td>\n",
       "      <td>0.011061</td>\n",
       "    </tr>\n",
       "    <tr>\n",
       "      <th>9</th>\n",
       "      <td>0.043055</td>\n",
       "      <td>0.004777</td>\n",
       "      <td>0.040374</td>\n",
       "      <td>0.075329</td>\n",
       "      <td>0.417920</td>\n",
       "      <td>0.003941</td>\n",
       "    </tr>\n",
       "    <tr>\n",
       "      <th>12</th>\n",
       "      <td>0.042877</td>\n",
       "      <td>0.002973</td>\n",
       "      <td>0.020795</td>\n",
       "      <td>0.061091</td>\n",
       "      <td>0.394257</td>\n",
       "      <td>0.002737</td>\n",
       "    </tr>\n",
       "  </tbody>\n",
       "</table>\n",
       "</div>"
      ],
      "text/plain": [
       "        p=-1       p=0       p=1       p=2      p=10     p=100\n",
       "0   0.063063  0.082284  0.112744  0.150400  0.680847  0.071415\n",
       "3   0.050339  0.039955  0.050331  0.085897  0.590450  0.040250\n",
       "6   0.043834  0.019796  0.049901  0.083866  0.536981  0.011061\n",
       "9   0.043055  0.004777  0.040374  0.075329  0.417920  0.003941\n",
       "12  0.042877  0.002973  0.020795  0.061091  0.394257  0.002737"
      ]
     },
     "execution_count": 3,
     "metadata": {},
     "output_type": "execute_result"
    }
   ],
   "source": [
    "loss.head()"
   ]
  },
  {
   "cell_type": "code",
   "execution_count": 4,
   "metadata": {},
   "outputs": [
    {
     "data": {
      "image/png": "[encoded data removed]",
      "text/plain": [
       "<Figure size 640x480 with 1 Axes>"
      ]
     },
     "metadata": {},
     "output_type": "display_data"
    }
   ],
   "source": [
    "p_list = [-1, 0, 1, 2, 10, 100][1:3]\n",
    "marker_list = ['o', 'v', 's', 'D', 'P', '*'][1:3]\n",
    "\n",
    "for p, marker in zip(p_list, marker_list):\n",
    "    p_str = str(p) if p < 99 else r\"$\\infty$\"\n",
    "    plt.scatter(loss[f'p={p}'], acc[f'p={p}'], marker=marker, label=r\"$p=$\"+p_str, )\n",
    "    # plt.plot(loss[f'p={p}'], label=f'power={p}')\n",
    "    # plt.plot(acc[f'p={p}'], label=f'power={p}')\n",
    "\n",
    "plt.xlabel('loss')\n",
    "plt.ylabel('accuracy')\n",
    "plt.xscale('log')\n",
    "# plt.ylim(99, 99.99)\n",
    "plt.legend()\n",
    "\n",
    "seq_len = 10\n",
    "# plt.title(f\"Loss-accuracy between different time-weighted loss, seq_len={seq_len} in copying problem\")\n",
    "plt.savefig(f\"./loss-accuracy-copying-seq_len={seq_len}.pdf\")"
   ]
  },
  {
   "cell_type": "code",
   "execution_count": null,
   "metadata": {},
   "outputs": [],
   "source": []
  }
 ],
 "metadata": {
  "kernelspec": {
   "display_name": "torch",
   "language": "python",
   "name": "python3"
  },
  "language_info": {
   "codemirror_mode": {
    "name": "ipython",
    "version": 3
   },
   "file_extension": ".py",
   "mimetype": "text/x-python",
   "name": "python",
   "nbconvert_exporter": "python",
   "pygments_lexer": "ipython3",
   "version": "3.9.16"
  },
  "orig_nbformat": 4
 },
 "nbformat": 4,
 "nbformat_minor": 2
}
